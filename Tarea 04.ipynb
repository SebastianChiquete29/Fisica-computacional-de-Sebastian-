{
 "cells": [
  {
   "cell_type": "code",
   "execution_count": 39,
   "id": "58fcf23e",
   "metadata": {},
   "outputs": [
    {
     "ename": "TypeError",
     "evalue": "f() missing 2 required positional arguments: 'x' and 'theta'",
     "output_type": "error",
     "traceback": [
      "\u001b[0;31m---------------------------------------------------------------------------\u001b[0m",
      "\u001b[0;31mTypeError\u001b[0m                                 Traceback (most recent call last)",
      "Cell \u001b[0;32mIn[39], line 40\u001b[0m\n\u001b[1;32m     36\u001b[0m         S \u001b[38;5;241m=\u001b[39m S \u001b[38;5;241m+\u001b[39m wi[i]\u001b[38;5;241m*\u001b[39mf(xi[i]) \n\u001b[1;32m     38\u001b[0m     \u001b[38;5;28;01mreturn\u001b[39;00m S\n\u001b[0;32m---> 40\u001b[0m \u001b[43mCuadGauss2D\u001b[49m\u001b[43m(\u001b[49m\u001b[43mN\u001b[49m\u001b[43m,\u001b[49m\u001b[43mf\u001b[49m\u001b[43m,\u001b[49m\u001b[43ma\u001b[49m\u001b[43m,\u001b[49m\u001b[43mb\u001b[49m\u001b[43m)\u001b[49m\n",
      "Cell \u001b[0;32mIn[39], line 36\u001b[0m, in \u001b[0;36mCuadGauss2D\u001b[0;34m(N, f, a, b)\u001b[0m\n\u001b[1;32m     32\u001b[0m wi \u001b[38;5;241m=\u001b[39m X[\u001b[38;5;241m1\u001b[39m]\n\u001b[1;32m     35\u001b[0m \u001b[38;5;28;01mfor\u001b[39;00m i \u001b[38;5;129;01min\u001b[39;00m \u001b[38;5;28mrange\u001b[39m(N):\n\u001b[0;32m---> 36\u001b[0m     S \u001b[38;5;241m=\u001b[39m S \u001b[38;5;241m+\u001b[39m wi[i]\u001b[38;5;241m*\u001b[39m\u001b[43mf\u001b[49m\u001b[43m(\u001b[49m\u001b[43mxi\u001b[49m\u001b[43m[\u001b[49m\u001b[43mi\u001b[49m\u001b[43m]\u001b[49m\u001b[43m)\u001b[49m \n\u001b[1;32m     38\u001b[0m \u001b[38;5;28;01mreturn\u001b[39;00m S\n",
      "\u001b[0;31mTypeError\u001b[0m: f() missing 2 required positional arguments: 'x' and 'theta'"
     ]
    }
   ],
   "source": [
    "#Problema 01 a)\n",
    "\n",
    "import numpy as np\n",
    "import scipy as sp\n",
    "import matplotlib.pyplot as plt\n",
    "import math as mp \n",
    "\n",
    "def f(m,x,theta):\n",
    "    return np.cos(theta*m - x*np.sin(theta))\n",
    "\n",
    "a = 0\n",
    "b = np.pi\n",
    "N = 1000\n",
    "\n",
    "def gauss2D_xw_ab(N,a,b):\n",
    "    \n",
    "    x,w = sp.special.roots_legendre(N)\n",
    "    \n",
    "    X = 0.5*(b-a)*x+0.5*(b+a),0.5*(b-a)*w\n",
    "\n",
    "    \n",
    "    return X\n",
    "\n",
    "def CuadGauss2D(N,f,a,b):\n",
    "    \n",
    "    S = 0.0\n",
    "    Sx = 0.0\n",
    "    \n",
    "    X = gauss2D_xw_ab(N,a,b)\n",
    "    \n",
    "    xi = X[0]\n",
    "    wi = X[1]\n",
    "    \n",
    "\n",
    "    for i in range(N):\n",
    "        S = S + wi[i]*f(xi[i]) \n",
    "        \n",
    "    return S\n",
    "    \n",
    "CuadGauss2D(N,f,a,b)"
   ]
  },
  {
   "cell_type": "code",
   "execution_count": 45,
   "id": "ed9ee9b7",
   "metadata": {},
   "outputs": [
    {
     "ename": "NameError",
     "evalue": "name 'inttotal' is not defined",
     "output_type": "error",
     "traceback": [
      "\u001b[0;31m---------------------------------------------------------------------------\u001b[0m",
      "\u001b[0;31mNameError\u001b[0m                                 Traceback (most recent call last)",
      "Cell \u001b[0;32mIn[45], line 45\u001b[0m\n\u001b[1;32m     40\u001b[0m         inttotal \u001b[38;5;241m=\u001b[39m (h\u001b[38;5;241m/\u001b[39m\u001b[38;5;241m3\u001b[39m)\u001b[38;5;241m*\u001b[39m(f(m, x, a) \u001b[38;5;241m+\u001b[39m f(m, x, b) \u001b[38;5;241m+\u001b[39m \u001b[38;5;241m4\u001b[39m\u001b[38;5;241m*\u001b[39m(suma1) \u001b[38;5;241m+\u001b[39m (\u001b[38;5;241m2\u001b[39m\u001b[38;5;241m*\u001b[39msuma2))\n\u001b[1;32m     42\u001b[0m         \u001b[38;5;28;01mreturn\u001b[39;00m inttotal\n\u001b[0;32m---> 45\u001b[0m \u001b[38;5;28mprint\u001b[39m(\u001b[43minttotal\u001b[49m)\n",
      "\u001b[0;31mNameError\u001b[0m: name 'inttotal' is not defined"
     ]
    }
   ],
   "source": [
    "#def intsimpson (f, a, b, n):\n",
    "    #h = (b-a)/n\n",
    "    #x = np.arange(a, b, h)\n",
    "    #print(x.size/2)\n",
    "    #suma1 = 0\n",
    "    #suma2 = 1\n",
    "    #for k in list(range(0,int(x.size/2))):\n",
    "        #suma1 += f(a + (2*k +1)*h)\n",
    "        #suma2 += f(a + (2*k*h))\n",
    "    #inttotal = (h/3)*(f(a) + f(b) + 4*(suma1) + (2*suma2))\n",
    "    #return inttotal\n",
    "\n",
    "import numpy as np\n",
    "import scipy as sp\n",
    "import matplotlib.pyplot as plt\n",
    "import math as mp \n",
    "\n",
    "def f(m,x,theta):\n",
    "    return np.cos(theta*m - x*np.sin(theta))\n",
    "\n",
    "def intsimpson (f, a, b, n):\n",
    "\n",
    "    a = 0\n",
    "    b = np.pi\n",
    "    n = 1000 \n",
    "    m = 1\n",
    "    \n",
    "    h = (b-a)/n\n",
    "\n",
    "    x = np.arange(a, b, h)\n",
    "    print(x.size/2)\n",
    "    suma1 = 0\n",
    "    suma2 = 1\n",
    "    \n",
    "    for k in list(range(0,int(x.size/2))): \n",
    "        suma1 += f(m,x, a + (2*k +1)*h)\n",
    "        suma2 += f(m, x, b + (2*k*h))\n",
    "        \n",
    "    \n",
    "        inttotal = (h/3)*(f(m, x, a) + f(m, x, b) + 4*(suma1) + (2*suma2))\n",
    "\n",
    "        return inttotal\n",
    "\n",
    "\n",
    "print(inttotal)\n",
    "\n",
    "\n",
    "\n",
    "\n"
   ]
  },
  {
   "cell_type": "code",
   "execution_count": null,
   "id": "cce2209b",
   "metadata": {},
   "outputs": [],
   "source": []
  },
  {
   "cell_type": "code",
   "execution_count": null,
   "id": "f3dedcde",
   "metadata": {},
   "outputs": [],
   "source": []
  }
 ],
 "metadata": {
  "kernelspec": {
   "display_name": "Python 3 (ipykernel)",
   "language": "python",
   "name": "python3"
  },
  "language_info": {
   "codemirror_mode": {
    "name": "ipython",
    "version": 3
   },
   "file_extension": ".py",
   "mimetype": "text/x-python",
   "name": "python",
   "nbconvert_exporter": "python",
   "pygments_lexer": "ipython3",
   "version": "3.10.9"
  }
 },
 "nbformat": 4,
 "nbformat_minor": 5
}
